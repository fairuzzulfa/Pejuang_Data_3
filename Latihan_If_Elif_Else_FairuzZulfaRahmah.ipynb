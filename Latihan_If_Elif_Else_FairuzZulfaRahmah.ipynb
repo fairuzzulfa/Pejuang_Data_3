{
  "nbformat": 4,
  "nbformat_minor": 0,
  "metadata": {
    "colab": {
      "name": "Latihan_If_Elif_Else_FairuzZulfaRahmah.ipynb",
      "provenance": [],
      "collapsed_sections": []
    },
    "kernelspec": {
      "name": "python3",
      "display_name": "Python 3"
    },
    "language_info": {
      "name": "python"
    }
  },
  "cells": [
    {
      "cell_type": "markdown",
      "metadata": {
        "id": "hiuCo6MZADiT"
      },
      "source": [
        "**Latihan If Else Elif**"
      ]
    },
    {
      "cell_type": "code",
      "metadata": {
        "id": "PxV_UbZpAB_n"
      },
      "source": [
        "def Mahal_Diskon(harga_awal):\n",
        "  harga_diskon = harga_awal\n",
        "  if harga_awal >= 300000:\n",
        "    print(\"Mahal, Kamu Dapat Diskon 40%\")\n",
        "    x = harga_awal*(40/100)\n",
        "  elif harga_awal <= 150000:\n",
        "    print(\"Murah, Kamu Dapat Diskon 20%\")\n",
        "    x = harga_awal*(20/100)\n",
        "  else:\n",
        "    print(\"Murah, Kamu Dapat Diskon 10%\")\n",
        "    x = harga_awal*(10/100)\n",
        "  \n",
        "  harga_diskon = harga_awal-x\n",
        "  print(\"Harga yang perlu dibayarkan adalah\", int(harga_diskon))\n",
        "  return"
      ],
      "execution_count": 8,
      "outputs": []
    },
    {
      "cell_type": "code",
      "metadata": {
        "colab": {
          "base_uri": "https://localhost:8080/"
        },
        "id": "rI0PJxBgCKIn",
        "outputId": "eba63939-880d-467c-a9ba-5b795c0f2e26"
      },
      "source": [
        "Mahal_Diskon(165000)"
      ],
      "execution_count": 9,
      "outputs": [
        {
          "output_type": "stream",
          "name": "stdout",
          "text": [
            "Murah, Kamu Dapat Diskon 10%\n",
            "Harga yang perlu dibayarkan adalah 148500\n"
          ]
        }
      ]
    }
  ]
}
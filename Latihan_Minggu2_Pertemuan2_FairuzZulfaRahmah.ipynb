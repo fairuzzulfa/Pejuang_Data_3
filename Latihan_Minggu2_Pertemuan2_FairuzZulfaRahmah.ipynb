{
  "nbformat": 4,
  "nbformat_minor": 0,
  "metadata": {
    "colab": {
      "name": "Latihan_Minggu2_Pertemuan2_FairuzZulfaRahmah.ipynb",
      "provenance": [],
      "collapsed_sections": []
    },
    "kernelspec": {
      "name": "python3",
      "display_name": "Python 3"
    },
    "language_info": {
      "name": "python"
    }
  },
  "cells": [
    {
      "cell_type": "markdown",
      "metadata": {
        "id": "i2IeHahRYJow"
      },
      "source": [
        "**Latihan Struktur Data Set** "
      ]
    },
    {
      "cell_type": "code",
      "metadata": {
        "colab": {
          "base_uri": "https://localhost:8080/"
        },
        "id": "IstM56yuYHt6",
        "outputId": "1445b284-f45a-43da-d7a4-6d90c29f301a"
      },
      "source": [
        "Set1 = {5, False, 8.5, \"empat\"}\n",
        "\n",
        "print(type(Set1))"
      ],
      "execution_count": 8,
      "outputs": [
        {
          "output_type": "stream",
          "name": "stdout",
          "text": [
            "<class 'set'>\n"
          ]
        }
      ]
    },
    {
      "cell_type": "code",
      "metadata": {
        "colab": {
          "base_uri": "https://localhost:8080/",
          "height": 197
        },
        "id": "kp-h2d56pGek",
        "outputId": "9f10c795-3800-4f36-9e15-9b26b4df74fc"
      },
      "source": [
        "#Sifat-sifat Set\n",
        "\n",
        "#Tidak terurut / unordered\n",
        "print(\"memanggil Set Set1 dengan indeks urutan :\", Set1[0:4])"
      ],
      "execution_count": 9,
      "outputs": [
        {
          "output_type": "error",
          "ename": "TypeError",
          "evalue": "ignored",
          "traceback": [
            "\u001b[0;31m---------------------------------------------------------------------------\u001b[0m",
            "\u001b[0;31mTypeError\u001b[0m                                 Traceback (most recent call last)",
            "\u001b[0;32m<ipython-input-9-6f26d8dc53d6>\u001b[0m in \u001b[0;36m<module>\u001b[0;34m()\u001b[0m\n\u001b[1;32m      2\u001b[0m \u001b[0;34m\u001b[0m\u001b[0m\n\u001b[1;32m      3\u001b[0m \u001b[0;31m#Tidak terurut / unordered\u001b[0m\u001b[0;34m\u001b[0m\u001b[0;34m\u001b[0m\u001b[0;34m\u001b[0m\u001b[0m\n\u001b[0;32m----> 4\u001b[0;31m \u001b[0mprint\u001b[0m\u001b[0;34m(\u001b[0m\u001b[0;34m\"memanggil Set Set1 dengan indeks urutan :\"\u001b[0m\u001b[0;34m,\u001b[0m \u001b[0mSet1\u001b[0m\u001b[0;34m[\u001b[0m\u001b[0;36m0\u001b[0m\u001b[0;34m:\u001b[0m\u001b[0;36m4\u001b[0m\u001b[0;34m]\u001b[0m\u001b[0;34m)\u001b[0m\u001b[0;34m\u001b[0m\u001b[0;34m\u001b[0m\u001b[0m\n\u001b[0m",
            "\u001b[0;31mTypeError\u001b[0m: 'set' object is not subscriptable"
          ]
        }
      ]
    },
    {
      "cell_type": "code",
      "metadata": {
        "colab": {
          "base_uri": "https://localhost:8080/",
          "height": 197
        },
        "id": "HhXcGsyRpaPr",
        "outputId": "089de4ef-77e1-49ae-f9d9-b56f6fbab409"
      },
      "source": [
        "#Tidak dapat diganti / immutable\n",
        "Set1[3] = 4.5\n",
        "print(\"Set1 setelah diganti elemennya :\", Set1)"
      ],
      "execution_count": 10,
      "outputs": [
        {
          "output_type": "error",
          "ename": "TypeError",
          "evalue": "ignored",
          "traceback": [
            "\u001b[0;31m---------------------------------------------------------------------------\u001b[0m",
            "\u001b[0;31mTypeError\u001b[0m                                 Traceback (most recent call last)",
            "\u001b[0;32m<ipython-input-10-6599837ed24a>\u001b[0m in \u001b[0;36m<module>\u001b[0;34m()\u001b[0m\n\u001b[1;32m      1\u001b[0m \u001b[0;31m#Tidak dapat diganti / immutable\u001b[0m\u001b[0;34m\u001b[0m\u001b[0;34m\u001b[0m\u001b[0;34m\u001b[0m\u001b[0m\n\u001b[0;32m----> 2\u001b[0;31m \u001b[0mSet1\u001b[0m\u001b[0;34m[\u001b[0m\u001b[0;36m3\u001b[0m\u001b[0;34m]\u001b[0m \u001b[0;34m=\u001b[0m \u001b[0;36m4.5\u001b[0m\u001b[0;34m\u001b[0m\u001b[0;34m\u001b[0m\u001b[0m\n\u001b[0m\u001b[1;32m      3\u001b[0m \u001b[0mprint\u001b[0m\u001b[0;34m(\u001b[0m\u001b[0;34m\"Set1 setelah diganti elemennya :\"\u001b[0m\u001b[0;34m,\u001b[0m \u001b[0mSet1\u001b[0m\u001b[0;34m)\u001b[0m\u001b[0;34m\u001b[0m\u001b[0;34m\u001b[0m\u001b[0m\n",
            "\u001b[0;31mTypeError\u001b[0m: 'set' object does not support item assignment"
          ]
        }
      ]
    },
    {
      "cell_type": "code",
      "metadata": {
        "colab": {
          "base_uri": "https://localhost:8080/",
          "height": 197
        },
        "id": "hWmvm-cEpuHK",
        "outputId": "c76d4762-fc2e-4672-d9be-71ce3e394f32"
      },
      "source": [
        "#Dapat diindeks ? slicing\n",
        "Set1 = {5, False, 8.5, \"empat\"}\n",
        "print(\"slicing set Set1 :\", Set1[1])"
      ],
      "execution_count": 11,
      "outputs": [
        {
          "output_type": "error",
          "ename": "TypeError",
          "evalue": "ignored",
          "traceback": [
            "\u001b[0;31m---------------------------------------------------------------------------\u001b[0m",
            "\u001b[0;31mTypeError\u001b[0m                                 Traceback (most recent call last)",
            "\u001b[0;32m<ipython-input-11-8e7a034c3c0a>\u001b[0m in \u001b[0;36m<module>\u001b[0;34m()\u001b[0m\n\u001b[1;32m      1\u001b[0m \u001b[0;31m#Dapat diindeks ? slicing\u001b[0m\u001b[0;34m\u001b[0m\u001b[0;34m\u001b[0m\u001b[0;34m\u001b[0m\u001b[0m\n\u001b[1;32m      2\u001b[0m \u001b[0mSet1\u001b[0m \u001b[0;34m=\u001b[0m \u001b[0;34m{\u001b[0m\u001b[0;36m5\u001b[0m\u001b[0;34m,\u001b[0m \u001b[0;32mFalse\u001b[0m\u001b[0;34m,\u001b[0m \u001b[0;36m8.5\u001b[0m\u001b[0;34m,\u001b[0m \u001b[0;34m\"empat\"\u001b[0m\u001b[0;34m}\u001b[0m\u001b[0;34m\u001b[0m\u001b[0;34m\u001b[0m\u001b[0m\n\u001b[0;32m----> 3\u001b[0;31m \u001b[0mprint\u001b[0m\u001b[0;34m(\u001b[0m\u001b[0;34m\"slicing set Set1 :\"\u001b[0m\u001b[0;34m,\u001b[0m \u001b[0mSet1\u001b[0m\u001b[0;34m[\u001b[0m\u001b[0;36m1\u001b[0m\u001b[0;34m]\u001b[0m\u001b[0;34m)\u001b[0m\u001b[0;34m\u001b[0m\u001b[0;34m\u001b[0m\u001b[0m\n\u001b[0m",
            "\u001b[0;31mTypeError\u001b[0m: 'set' object is not subscriptable"
          ]
        }
      ]
    },
    {
      "cell_type": "code",
      "metadata": {
        "colab": {
          "base_uri": "https://localhost:8080/"
        },
        "id": "2vc8bZI7qm1G",
        "outputId": "cfd6cd89-9614-4412-f52e-2fefa3dc0bc5"
      },
      "source": [
        "#dapat diijinkan duplikasi\n",
        "Set1 = {5, 5, False, 8.5, \"empat\", \"empat\"}\n",
        "print(\"duplikat pada set Set1 :\", Set1)"
      ],
      "execution_count": 12,
      "outputs": [
        {
          "output_type": "stream",
          "name": "stdout",
          "text": [
            "duplikat pada set Set1 : {False, 8.5, 'empat', 5}\n"
          ]
        }
      ]
    },
    {
      "cell_type": "markdown",
      "metadata": {
        "id": "IALhrpDgrZlR"
      },
      "source": [
        "**Latihan 1 Struktur Data Dictionary**"
      ]
    },
    {
      "cell_type": "code",
      "metadata": {
        "colab": {
          "base_uri": "https://localhost:8080/"
        },
        "id": "GoBgD6QWrhFq",
        "outputId": "83e9470a-6283-42e0-f95c-29c1c8cf9222"
      },
      "source": [
        "Dict1 = {5:'value','key':10}\n",
        "\n",
        "print(Dict1)"
      ],
      "execution_count": 13,
      "outputs": [
        {
          "output_type": "stream",
          "name": "stdout",
          "text": [
            "{5: 'value', 'key': 10}\n"
          ]
        }
      ]
    },
    {
      "cell_type": "markdown",
      "metadata": {
        "id": "EJewZvy5wj8W"
      },
      "source": [
        "**Latihan 2 Struktur Data Dictionary**"
      ]
    },
    {
      "cell_type": "code",
      "metadata": {
        "colab": {
          "base_uri": "https://localhost:8080/"
        },
        "id": "MoZCSHWDwqEo",
        "outputId": "2ab12311-f925-4f81-fe39-c9a2115d6cda"
      },
      "source": [
        "Dict1['key']"
      ],
      "execution_count": 14,
      "outputs": [
        {
          "output_type": "execute_result",
          "data": {
            "text/plain": [
              "10"
            ]
          },
          "metadata": {},
          "execution_count": 14
        }
      ]
    },
    {
      "cell_type": "code",
      "metadata": {
        "colab": {
          "base_uri": "https://localhost:8080/"
        },
        "id": "_X2jce3KwwA8",
        "outputId": "25d52f91-f9e9-4e8d-ec55-79d5a6f926be"
      },
      "source": [
        "print(\"Dict1['key'] = \", Dict1['key']); "
      ],
      "execution_count": 15,
      "outputs": [
        {
          "output_type": "stream",
          "name": "stdout",
          "text": [
            "Dict1['key'] =  10\n"
          ]
        }
      ]
    },
    {
      "cell_type": "markdown",
      "metadata": {
        "id": "pcJ_cfHvxZdE"
      },
      "source": [
        "**Latihan Konversi Strutur Data**"
      ]
    },
    {
      "cell_type": "code",
      "metadata": {
        "id": "0Wvzxd4Dx2sb"
      },
      "source": [
        "#Mengkonversi struktur data list :\n",
        "\n",
        "#membuat 2 list\n",
        "List1 = [2, 4, 6, 8]\n",
        "List2 = [1, 3, 5, 7]"
      ],
      "execution_count": 17,
      "outputs": []
    },
    {
      "cell_type": "code",
      "metadata": {
        "colab": {
          "base_uri": "https://localhost:8080/"
        },
        "id": "-AfepW-FyQm3",
        "outputId": "756f594a-10dd-4e0d-fb6f-049cb92fdc2c"
      },
      "source": [
        "#mengkonversi struktur data list\n",
        "k_tuple = tuple(List1)\n",
        "k_set = set(List2)\n",
        "k_dict = dict(zip(List1, List2))\n",
        "#melihat data yang telah dikonversi\n",
        "print(k_tuple)\n",
        "print(k_set)\n",
        "print(k_dict)"
      ],
      "execution_count": 18,
      "outputs": [
        {
          "output_type": "stream",
          "name": "stdout",
          "text": [
            "(2, 4, 6, 8)\n",
            "{1, 3, 5, 7}\n",
            "{2: 1, 4: 3, 6: 5, 8: 7}\n"
          ]
        }
      ]
    },
    {
      "cell_type": "code",
      "metadata": {
        "id": "ms0gvhdVzYjf"
      },
      "source": [
        "#Mengkonversi struktur data tuple :\n",
        "\n",
        "#membuat dua tuple \n",
        "Tuple1 = (2, 4, 6, 8)\n",
        "Tuple2 = (1, 3, 5, 7)"
      ],
      "execution_count": 19,
      "outputs": []
    },
    {
      "cell_type": "code",
      "metadata": {
        "colab": {
          "base_uri": "https://localhost:8080/"
        },
        "id": "BQdjGg0tzpto",
        "outputId": "8b6ddca2-9a04-4862-bba5-762e4fde9557"
      },
      "source": [
        "#mengkonversi struktur data tuple\n",
        "k_list = list(Tuple1)\n",
        "k_set = set(Tuple2)\n",
        "k_dict = dict(zip(Tuple1, Tuple2))\n",
        "#melihat data yang telah dikonversi\n",
        "print(k_list)\n",
        "print(k_set)\n",
        "print(k_dict)"
      ],
      "execution_count": 20,
      "outputs": [
        {
          "output_type": "stream",
          "name": "stdout",
          "text": [
            "[2, 4, 6, 8]\n",
            "{1, 3, 5, 7}\n",
            "{2: 1, 4: 3, 6: 5, 8: 7}\n"
          ]
        }
      ]
    },
    {
      "cell_type": "code",
      "metadata": {
        "id": "hddAb3fL0GwG"
      },
      "source": [
        "#Mengkonversi struktur data set :\n",
        "\n",
        "#membuat dua set\n",
        "Set1 = {2, 4, 6, 8}\n",
        "Set2 = {1, 3, 5, 7}"
      ],
      "execution_count": 21,
      "outputs": []
    },
    {
      "cell_type": "code",
      "metadata": {
        "colab": {
          "base_uri": "https://localhost:8080/"
        },
        "id": "l71yRDWG0ab8",
        "outputId": "5bba18b9-32cd-4a7b-b44e-f3db9b3532d9"
      },
      "source": [
        "#mengkonversi struktur data set\n",
        "k_list = list(Set1)\n",
        "k_tuple = tuple(Set2)\n",
        "k_dict = dict(zip(Set1, Set2))\n",
        "#melihat data yang telah dikonversi\n",
        "print(k_list)\n",
        "print(k_tuple)\n",
        "print(k_dict)"
      ],
      "execution_count": 22,
      "outputs": [
        {
          "output_type": "stream",
          "name": "stdout",
          "text": [
            "[8, 2, 4, 6]\n",
            "(1, 3, 5, 7)\n",
            "{8: 1, 2: 3, 4: 5, 6: 7}\n"
          ]
        }
      ]
    },
    {
      "cell_type": "code",
      "metadata": {
        "id": "O8ra0CFj083F"
      },
      "source": [
        "#Mengkonversi struktur data dictionary :\n",
        "Dict = {\"nama\" : \"Fairuz\",\n",
        "\"prodi\" : \"matematika\",\n",
        "\"angkatan\" : 2020\n",
        "}"
      ],
      "execution_count": 23,
      "outputs": []
    },
    {
      "cell_type": "code",
      "metadata": {
        "colab": {
          "base_uri": "https://localhost:8080/"
        },
        "id": "_CTl-DW82kMg",
        "outputId": "c755178c-480f-41ff-ee3a-077907b789f8"
      },
      "source": [
        "#mengkonversi struktur data dictionary dari key dan value-nya\n",
        "k_list = list(Dict.keys())\n",
        "k_tuple = tuple(Dict.values())\n",
        "k_set = set(Dict.keys())\n",
        "#melihat data yang telah dikonversi\n",
        "print(k_list)\n",
        "print(k_tuple)\n",
        "print(k_set)"
      ],
      "execution_count": 24,
      "outputs": [
        {
          "output_type": "stream",
          "name": "stdout",
          "text": [
            "['nama', 'prodi', 'angkatan']\n",
            "('Fairuz', 'matematika', 2020)\n",
            "{'prodi', 'nama', 'angkatan'}\n"
          ]
        }
      ]
    },
    {
      "cell_type": "markdown",
      "metadata": {
        "id": "3g-NpMir5RKL"
      },
      "source": [
        "**Latihan 1 Struktur Data String**"
      ]
    },
    {
      "cell_type": "code",
      "metadata": {
        "colab": {
          "base_uri": "https://localhost:8080/"
        },
        "id": "yRCicxPt5aH4",
        "outputId": "0a291c03-aa76-448f-c175-513ebd9b3c74"
      },
      "source": [
        "#membuat variabel bertipe string\n",
        "S = \"Saya sedang belajar bahasa Python\"\n",
        "print(S)"
      ],
      "execution_count": 25,
      "outputs": [
        {
          "output_type": "stream",
          "name": "stdout",
          "text": [
            "Saya sedang belajar bahasa Python\n"
          ]
        }
      ]
    },
    {
      "cell_type": "code",
      "metadata": {
        "colab": {
          "base_uri": "https://localhost:8080/"
        },
        "id": "VtDRWZcQDw7D",
        "outputId": "9ed35af4-9518-4b56-b97c-8e0597dea948"
      },
      "source": [
        "#slicing pada string\n",
        "S = \"Saya sedang belajar bahasa Python\"\n",
        "print(\"Kalimat setelah dihilangkan karakter pertama dan terakhirnya :\", S[1:32])"
      ],
      "execution_count": 29,
      "outputs": [
        {
          "output_type": "stream",
          "name": "stdout",
          "text": [
            "Kalimat setelah dihilangkan karakter pertama dan terakhirnya : aya sedang belajar bahasa Pytho\n"
          ]
        }
      ]
    },
    {
      "cell_type": "markdown",
      "metadata": {
        "id": "Kn-3jN9QEe9X"
      },
      "source": [
        "**Latihan 2 Struktur Data String**"
      ]
    },
    {
      "cell_type": "code",
      "metadata": {
        "colab": {
          "base_uri": "https://localhost:8080/"
        },
        "id": "7fJmGC-QEjZc",
        "outputId": "9f9e8077-ed49-4225-ae76-564175699831"
      },
      "source": [
        "#mengganti huruf vokal menjadi huruf \"i\" pada string sebelumnya\n",
        "S = S.replace('a','i')\n",
        "S = S.replace('u','i')\n",
        "S = S.replace('e','i')\n",
        "S = S.replace('o','i')\n",
        "print(S)"
      ],
      "execution_count": 30,
      "outputs": [
        {
          "output_type": "stream",
          "name": "stdout",
          "text": [
            "Siyi siding bilijir bihisi Pythin\n"
          ]
        }
      ]
    }
  ]
}
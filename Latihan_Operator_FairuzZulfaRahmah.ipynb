{
  "nbformat": 4,
  "nbformat_minor": 0,
  "metadata": {
    "colab": {
      "name": "Latihan_Operator_FairuzZulfaRahmah.ipynb",
      "provenance": [],
      "collapsed_sections": []
    },
    "kernelspec": {
      "name": "python3",
      "display_name": "Python 3"
    },
    "language_info": {
      "name": "python"
    }
  },
  "cells": [
    {
      "cell_type": "markdown",
      "metadata": {
        "id": "fEKOKCKGKkqx"
      },
      "source": [
        "**Latihan Operator 1**"
      ]
    },
    {
      "cell_type": "code",
      "metadata": {
        "colab": {
          "base_uri": "https://localhost:8080/"
        },
        "id": "0Dchu8OIKjAZ",
        "outputId": "64946a83-9d5c-4aea-ef8f-bab912cba0cf"
      },
      "source": [
        "#Operator Aritmatika\n",
        "\n",
        "#Penjumlahan\n",
        "print('Penjumlahan')\n",
        "print(3+5)\n",
        "print(4+2)\n",
        "print(1+4)\n",
        "\n",
        "#Pengurangan\n",
        "print('-'*20)\n",
        "print('Pengurangan')\n",
        "print(6-2)\n",
        "print(7-4)\n",
        "print(9-1)\n",
        "\n",
        "#Perkalian\n",
        "print('-'*20)\n",
        "print('Perkalian')\n",
        "print(5*7)\n",
        "print(3*1)\n",
        "print(6*8)\n",
        "\n",
        "#Pembagian\n",
        "print('-'*20)\n",
        "print('Pembagian')\n",
        "print(4/5)\n",
        "print(8/2)\n",
        "print(6/3)\n",
        "\n",
        "#Modulus\n",
        "print('-'*20)\n",
        "print('Modulus')\n",
        "print(6%4)\n",
        "print(4%5)\n",
        "print(9%8)\n",
        "\n",
        "#Perpangkatan\n",
        "print('-'*20)\n",
        "print('Perpangkatan')\n",
        "print(5**2)\n",
        "print(8**3)\n",
        "print(4**4)\n",
        "\n",
        "#Pembagian Pembulatan Floring\n",
        "print('-'*20)\n",
        "print('Pembagian Pembulatan Floring')\n",
        "print(5//2)\n",
        "print(7//4)\n",
        "print(10//3)"
      ],
      "execution_count": null,
      "outputs": [
        {
          "output_type": "stream",
          "name": "stdout",
          "text": [
            "Penjumlahan\n",
            "8\n",
            "6\n",
            "5\n",
            "--------------------\n",
            "Pengurangan\n",
            "4\n",
            "3\n",
            "8\n",
            "--------------------\n",
            "Perkalian\n",
            "35\n",
            "3\n",
            "48\n",
            "--------------------\n",
            "Pembagian\n",
            "0.8\n",
            "4.0\n",
            "2.0\n",
            "--------------------\n",
            "Modulus\n",
            "2\n",
            "4\n",
            "1\n",
            "--------------------\n",
            "Perpangkatan\n",
            "25\n",
            "512\n",
            "256\n",
            "--------------------\n",
            "Pembagian Pembulatan Floring\n",
            "2\n",
            "1\n",
            "3\n"
          ]
        }
      ]
    },
    {
      "cell_type": "markdown",
      "metadata": {
        "id": "ITi5qv7yNGgq"
      },
      "source": [
        "**Latihan Operator 2**"
      ]
    },
    {
      "cell_type": "code",
      "metadata": {
        "colab": {
          "base_uri": "https://localhost:8080/"
        },
        "id": "oWX8ip75NJvI",
        "outputId": "02ff9719-baec-4b54-dc95-ce2682ec79e8"
      },
      "source": [
        "#Operator Assignment\n",
        "\n",
        "#Penjumlahan\n",
        "print('Penjumlahan')\n",
        "x=3\n",
        "x=x+6\n",
        "print(x)\n",
        "x=3\n",
        "x+=4\n",
        "print(x)\n",
        "print('-'*20)\n",
        "\n",
        "#Pengurangan\n",
        "print('Pengurangan')\n",
        "x=6\n",
        "x=x-2\n",
        "print(x)\n",
        "x=6\n",
        "x-=5\n",
        "print(x)\n",
        "print('-'*20)\n",
        "\n",
        "#Perkalian\n",
        "print('Perkalian')\n",
        "x=4\n",
        "x=x*2\n",
        "print(x)\n",
        "x=4\n",
        "x*=3\n",
        "print(x)\n",
        "print('-'*20)\n",
        "\n",
        "#Pembagian \n",
        "print('Pembagian')\n",
        "x=8\n",
        "x=x/2\n",
        "print(x)\n",
        "x=8\n",
        "x/=4\n",
        "print(x)\n",
        "print('-'*20)\n",
        "\n",
        "#Modulus\n",
        "print('Modulus')\n",
        "x=9\n",
        "x=x%4\n",
        "print(x)\n",
        "x=9\n",
        "x%=6\n",
        "print(x)\n",
        "print('-'*20)\n",
        "\n",
        "#Pembagian Floaring\n",
        "print('Pembagian Floaring')\n",
        "x=7\n",
        "x=x//6\n",
        "print(x)\n",
        "x=7\n",
        "x//=3\n",
        "print(x)\n",
        "print('-'*20)\n",
        "\n",
        "#Perpangkatan\n",
        "print('Perpangkatan')\n",
        "x=2\n",
        "x=x**5\n",
        "print(x)\n",
        "x=2\n",
        "x**=3\n",
        "print(x)\n",
        "print('-'*20)"
      ],
      "execution_count": null,
      "outputs": [
        {
          "output_type": "stream",
          "name": "stdout",
          "text": [
            "Penjumlahan\n",
            "9\n",
            "7\n",
            "--------------------\n",
            "Pengurangan\n",
            "4\n",
            "1\n",
            "--------------------\n",
            "Perkalian\n",
            "8\n",
            "12\n",
            "--------------------\n",
            "Pembagian\n",
            "4.0\n",
            "2.0\n",
            "--------------------\n",
            "Modulus\n",
            "1\n",
            "3\n",
            "--------------------\n",
            "Pembagian Floaring\n",
            "1\n",
            "2\n",
            "--------------------\n",
            "Perpangkatan\n",
            "32\n",
            "8\n",
            "--------------------\n"
          ]
        }
      ]
    },
    {
      "cell_type": "markdown",
      "metadata": {
        "id": "k4p4H2I7eQ2i"
      },
      "source": [
        "**Latihan Operator 3**"
      ]
    },
    {
      "cell_type": "code",
      "metadata": {
        "colab": {
          "base_uri": "https://localhost:8080/"
        },
        "id": "RF__n3lderUq",
        "outputId": "b54d07d5-4b13-4c4a-9850-12a16d81650c"
      },
      "source": [
        "#Operator Pembanding\n",
        "\n",
        "print(5==5)\n",
        "print(7!=4)\n",
        "print(3>3)\n",
        "print(6<2)\n",
        "print(8>=4)\n",
        "print(9<=5)"
      ],
      "execution_count": null,
      "outputs": [
        {
          "output_type": "stream",
          "name": "stdout",
          "text": [
            "True\n",
            "True\n",
            "False\n",
            "False\n",
            "True\n",
            "False\n"
          ]
        }
      ]
    },
    {
      "cell_type": "markdown",
      "metadata": {
        "id": "J5kEOoNTfaMV"
      },
      "source": [
        "**Latihan Operator 4**"
      ]
    },
    {
      "cell_type": "code",
      "metadata": {
        "colab": {
          "base_uri": "https://localhost:8080/"
        },
        "id": "4enP4-wBfd3N",
        "outputId": "f7117d10-203d-4602-d064-a98832faca56"
      },
      "source": [
        "#Operator Logika\n",
        "\n",
        "print(True and True)\n",
        "print(False and True)\n",
        "\n",
        "print(True or False)\n",
        "print(True or True)\n",
        "\n",
        "print(not True and False)\n",
        "print(not True and True)"
      ],
      "execution_count": null,
      "outputs": [
        {
          "output_type": "stream",
          "name": "stdout",
          "text": [
            "True\n",
            "False\n",
            "True\n",
            "True\n",
            "False\n",
            "False\n"
          ]
        }
      ]
    },
    {
      "cell_type": "markdown",
      "metadata": {
        "id": "JLBjZFtknQ5K"
      },
      "source": [
        "**Latihan Operator 5**"
      ]
    },
    {
      "cell_type": "code",
      "metadata": {
        "colab": {
          "base_uri": "https://localhost:8080/"
        },
        "id": "r-36ebyxnUux",
        "outputId": "c9778e70-54cf-474b-8b93-b70e9ddf95e2"
      },
      "source": [
        "#Operator Keanggotaan\n",
        "a=(1,3,5,7,9)\n",
        "b=5\n",
        "print(b in a)\n",
        "x=(1,3,5,7,9)\n",
        "y=4\n",
        "print(y in x)\n",
        "\n",
        "print('-'*20)\n",
        "a=(2,4,6,8,10)\n",
        "b=9\n",
        "print(b not in a)\n",
        "x=(2,4,6,8,10)\n",
        "y=6\n",
        "print(y not in x)"
      ],
      "execution_count": 1,
      "outputs": [
        {
          "output_type": "stream",
          "name": "stdout",
          "text": [
            "True\n",
            "False\n",
            "--------------------\n",
            "True\n",
            "False\n"
          ]
        }
      ]
    }
  ]
}
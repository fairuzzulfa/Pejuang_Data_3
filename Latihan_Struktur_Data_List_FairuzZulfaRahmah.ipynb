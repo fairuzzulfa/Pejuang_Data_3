{
  "nbformat": 4,
  "nbformat_minor": 0,
  "metadata": {
    "colab": {
      "name": "Latihan_Struktur_Data_List_FairuzZulfaRahmah.ipynb",
      "provenance": [],
      "collapsed_sections": []
    },
    "kernelspec": {
      "name": "python3",
      "display_name": "Python 3"
    },
    "language_info": {
      "name": "python"
    }
  },
  "cells": [
    {
      "cell_type": "markdown",
      "metadata": {
        "id": "jBC4_zGCJ2rF"
      },
      "source": [
        "**Latihan 1 Data List**"
      ]
    },
    {
      "cell_type": "code",
      "metadata": {
        "colab": {
          "base_uri": "https://localhost:8080/"
        },
        "id": "6CtpEjoZJl8S",
        "outputId": "b4666c6c-b2de-4b9f-92db-d740f1b4af9d"
      },
      "source": [
        "Hewan = [\"kucing\", \"kelinci\", \"harimau\", \"gajah\"]\n",
        "\n",
        "print(type(Hewan))"
      ],
      "execution_count": 2,
      "outputs": [
        {
          "output_type": "stream",
          "name": "stdout",
          "text": [
            "<class 'list'>\n"
          ]
        }
      ]
    },
    {
      "cell_type": "code",
      "metadata": {
        "colab": {
          "base_uri": "https://localhost:8080/"
        },
        "id": "Om80KyqvLaxJ",
        "outputId": "22598c1b-631c-48a6-aac2-9dcf3c092ca2"
      },
      "source": [
        "Buah = [\"alpukat\", \"melon\", \"sirsak\", \"semangka\"]\n",
        "Buah"
      ],
      "execution_count": 3,
      "outputs": [
        {
          "output_type": "execute_result",
          "data": {
            "text/plain": [
              "['alpukat', 'melon', 'sirsak', 'semangka']"
            ]
          },
          "metadata": {},
          "execution_count": 3
        }
      ]
    },
    {
      "cell_type": "code",
      "metadata": {
        "colab": {
          "base_uri": "https://localhost:8080/"
        },
        "id": "myfDQ0X0Lvqr",
        "outputId": "7ec03642-9288-47c0-e8b4-65cb65909e23"
      },
      "source": [
        "print(Hewan)\n",
        "print(Buah)"
      ],
      "execution_count": 4,
      "outputs": [
        {
          "output_type": "stream",
          "name": "stdout",
          "text": [
            "['kucing', 'kelinci', 'harimau', 'gajah']\n",
            "['alpukat', 'melon', 'sirsak', 'semangka']\n"
          ]
        }
      ]
    },
    {
      "cell_type": "markdown",
      "metadata": {
        "id": "5dWcRMlGL2EQ"
      },
      "source": [
        "**Latihan 2 Data List**"
      ]
    },
    {
      "cell_type": "code",
      "metadata": {
        "colab": {
          "base_uri": "https://localhost:8080/"
        },
        "id": "EKafKceoL5yF",
        "outputId": "a5a3d29c-e4f6-4813-cb9c-fae85145ddfd"
      },
      "source": [
        "#mengganti elemen\n",
        "Hewan[3] = \"ayam\"\n",
        "print(\"List Hewan setelah diganti elemennya :\", Hewan)\n",
        "\n",
        "Buah[2] = \"mangga\"\n",
        "print(\"List Buah setelah diganti elemennya :\", Buah)"
      ],
      "execution_count": 7,
      "outputs": [
        {
          "output_type": "stream",
          "name": "stdout",
          "text": [
            "List Hewan setelah diganti elemennya : ['kucing', 'kelinci', 'harimau', 'ayam']\n",
            "List Buah setelah diganti elemennya : ['alpukat', 'melon', 'mangga', 'semangka']\n"
          ]
        }
      ]
    }
  ]
}
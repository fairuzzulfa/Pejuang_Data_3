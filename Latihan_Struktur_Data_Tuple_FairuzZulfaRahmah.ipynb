{
  "nbformat": 4,
  "nbformat_minor": 0,
  "metadata": {
    "colab": {
      "name": "Latihan_Struktur_Data_Tuple_FairuzZulfaRahmah.ipynb",
      "provenance": [],
      "collapsed_sections": []
    },
    "kernelspec": {
      "name": "python3",
      "display_name": "Python 3"
    },
    "language_info": {
      "name": "python"
    }
  },
  "cells": [
    {
      "cell_type": "markdown",
      "metadata": {
        "id": "dcjjImHkOqmz"
      },
      "source": [
        "**Latihan 1 Data Tuple**"
      ]
    },
    {
      "cell_type": "code",
      "metadata": {
        "colab": {
          "base_uri": "https://localhost:8080/"
        },
        "id": "39AGrcg2Oonb",
        "outputId": "17830a22-10aa-4a48-8986-ba82863ba5f8"
      },
      "source": [
        "Tuple1 = (5.5, \"hallo\", 6+4j, False)\n",
        "print(\"ini adalah tuple\", Tuple1)\n",
        "\n",
        "#menampilkan tipe struktur data\n",
        "type(Tuple1)"
      ],
      "execution_count": 4,
      "outputs": [
        {
          "output_type": "stream",
          "name": "stdout",
          "text": [
            "ini adalah tuple (5.5, 'hallo', (6+4j), False)\n"
          ]
        },
        {
          "output_type": "execute_result",
          "data": {
            "text/plain": [
              "tuple"
            ]
          },
          "metadata": {},
          "execution_count": 4
        }
      ]
    },
    {
      "cell_type": "markdown",
      "metadata": {
        "id": "Ax3O5b2qQJj3"
      },
      "source": [
        "**Latihan 2 Data Tuple**"
      ]
    },
    {
      "cell_type": "code",
      "metadata": {
        "colab": {
          "base_uri": "https://localhost:8080/"
        },
        "id": "eJMptYAkQNnZ",
        "outputId": "9fa52125-f909-4074-f4b5-f098160112c3"
      },
      "source": [
        "Tuple2 = (\"hai\", 10, 7.5, True)\n",
        "Tuple2\n",
        "\n",
        "#menggabungkan tuple\n",
        "Tuple3 = Tuple1 + Tuple2\n",
        "Tuple3"
      ],
      "execution_count": 5,
      "outputs": [
        {
          "output_type": "execute_result",
          "data": {
            "text/plain": [
              "(5.5, 'hallo', (6+4j), False, 'hai', 10, 7.5, True)"
            ]
          },
          "metadata": {},
          "execution_count": 5
        }
      ]
    }
  ]
}
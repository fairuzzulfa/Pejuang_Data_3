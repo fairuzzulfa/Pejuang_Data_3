{
  "nbformat": 4,
  "nbformat_minor": 0,
  "metadata": {
    "colab": {
      "name": "Latihan_Variabel_dan_Tipe_Data_FairuzZulfaRahmah.ipynb",
      "provenance": [],
      "collapsed_sections": []
    },
    "kernelspec": {
      "name": "python3",
      "display_name": "Python 3"
    },
    "language_info": {
      "name": "python"
    }
  },
  "cells": [
    {
      "cell_type": "markdown",
      "metadata": {
        "id": "PJaBwAu0tKsZ"
      },
      "source": [
        "**Latihan 1**"
      ]
    },
    {
      "cell_type": "code",
      "metadata": {
        "colab": {
          "base_uri": "https://localhost:8080/"
        },
        "id": "fed_klDNszdh",
        "outputId": "b7bb50ff-1743-4102-8bdc-904d7d1c2194"
      },
      "source": [
        "#membuat variabel\n",
        "kalimat = 'saya sedang belajar bahasa Python'\n",
        "contoh1 = 8\n",
        "contoh2 = 5.5\n",
        "contoh3 = 5j + 2\n",
        "contoh4 = False\n",
        "\n",
        "#menampilkan variabel\n",
        "print(kalimat)\n",
        "print(contoh1)\n",
        "print(contoh2)\n",
        "print(contoh3)\n",
        "print(contoh4)"
      ],
      "execution_count": 1,
      "outputs": [
        {
          "output_type": "stream",
          "name": "stdout",
          "text": [
            "saya sedang belajar bahasa Python\n",
            "8\n",
            "5.5\n",
            "(2+5j)\n",
            "False\n"
          ]
        }
      ]
    },
    {
      "cell_type": "markdown",
      "metadata": {
        "id": "617tY6fZuBvu"
      },
      "source": [
        "**Latihan 2**"
      ]
    },
    {
      "cell_type": "code",
      "metadata": {
        "colab": {
          "base_uri": "https://localhost:8080/"
        },
        "id": "--nS9P4WuD-d",
        "outputId": "c5264aa7-d1ce-4f44-a980-9af9663df407"
      },
      "source": [
        "#menampilkan tipe data\n",
        "print(type(kalimat))\n",
        "print(type(contoh1))\n",
        "print(type(contoh2))\n",
        "print(type(contoh3))\n",
        "print(type(contoh4))"
      ],
      "execution_count": 2,
      "outputs": [
        {
          "output_type": "stream",
          "name": "stdout",
          "text": [
            "<class 'str'>\n",
            "<class 'int'>\n",
            "<class 'float'>\n",
            "<class 'complex'>\n",
            "<class 'bool'>\n"
          ]
        }
      ]
    },
    {
      "cell_type": "markdown",
      "metadata": {
        "id": "bOrMc_0gun1P"
      },
      "source": [
        "**Latihan 3**"
      ]
    },
    {
      "cell_type": "code",
      "metadata": {
        "id": "Po6LoAMhuucv",
        "colab": {
          "base_uri": "https://localhost:8080/"
        },
        "outputId": "cb1bdfb3-3dac-4609-d2fd-7ebdf1e42a2b"
      },
      "source": [
        "#konversi tipe data integer\n",
        "print(int(contoh2))\n",
        "print(int(contoh4))"
      ],
      "execution_count": 4,
      "outputs": [
        {
          "output_type": "stream",
          "name": "stdout",
          "text": [
            "5\n",
            "0\n"
          ]
        }
      ]
    },
    {
      "cell_type": "code",
      "metadata": {
        "colab": {
          "base_uri": "https://localhost:8080/"
        },
        "id": "ptnZa58SmuFn",
        "outputId": "56216458-8a26-4e8f-b039-ae11987b7043"
      },
      "source": [
        "#konversi tipe data float\n",
        "print(float(contoh1))\n",
        "print(float(contoh4))"
      ],
      "execution_count": 5,
      "outputs": [
        {
          "output_type": "stream",
          "name": "stdout",
          "text": [
            "8.0\n",
            "0.0\n"
          ]
        }
      ]
    },
    {
      "cell_type": "code",
      "metadata": {
        "colab": {
          "base_uri": "https://localhost:8080/"
        },
        "id": "-0jUb6aAnFcN",
        "outputId": "cd1939b4-1b61-4c66-e3d7-7e23ab8a5288"
      },
      "source": [
        "#konversi tipe data string\n",
        "print(str(contoh1))\n",
        "print(str(contoh2))\n",
        "print(str(contoh4))"
      ],
      "execution_count": 6,
      "outputs": [
        {
          "output_type": "stream",
          "name": "stdout",
          "text": [
            "8\n",
            "5.5\n",
            "False\n"
          ]
        }
      ]
    },
    {
      "cell_type": "code",
      "metadata": {
        "colab": {
          "base_uri": "https://localhost:8080/"
        },
        "id": "zsdcD-aYna2l",
        "outputId": "ea15859b-3f88-4365-f44c-8beb3e1a4244"
      },
      "source": [
        "#konversi tipe data bool\n",
        "print(bool(contoh1))\n",
        "print(bool(contoh2))"
      ],
      "execution_count": 7,
      "outputs": [
        {
          "output_type": "stream",
          "name": "stdout",
          "text": [
            "True\n",
            "True\n"
          ]
        }
      ]
    },
    {
      "cell_type": "code",
      "metadata": {
        "colab": {
          "base_uri": "https://localhost:8080/"
        },
        "id": "LG86z5y6nrvd",
        "outputId": "34f92913-dfe2-4db9-ed00-6846a6631f96"
      },
      "source": [
        "#konversi tipe data complex\n",
        "print(complex(contoh1))\n",
        "print(complex(contoh2))\n",
        "print(complex(contoh4))"
      ],
      "execution_count": 8,
      "outputs": [
        {
          "output_type": "stream",
          "name": "stdout",
          "text": [
            "(8+0j)\n",
            "(5.5+0j)\n",
            "0j\n"
          ]
        }
      ]
    }
  ]
}
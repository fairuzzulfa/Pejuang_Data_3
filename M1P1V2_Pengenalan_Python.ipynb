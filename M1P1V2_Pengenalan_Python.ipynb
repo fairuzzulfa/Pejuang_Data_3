{
  "nbformat": 4,
  "nbformat_minor": 0,
  "metadata": {
    "colab": {
      "name": "M1P1V2_Pengenalan_Python.ipynb",
      "provenance": []
    },
    "kernelspec": {
      "name": "python3",
      "display_name": "Python 3"
    },
    "language_info": {
      "name": "python"
    }
  },
  "cells": [
    {
      "cell_type": "markdown",
      "metadata": {
        "id": "EmZvoWlVTd6B"
      },
      "source": [
        "Struktur Program pada Python"
      ]
    },
    {
      "cell_type": "markdown",
      "metadata": {
        "id": "3mUiqz7FTjoW"
      },
      "source": [
        "1. Statements"
      ]
    },
    {
      "cell_type": "code",
      "metadata": {
        "colab": {
          "base_uri": "https://localhost:8080/"
        },
        "id": "r-OqrcQeHXvu",
        "outputId": "f17b1272-9e6f-408e-9726-34612d00a35d"
      },
      "source": [
        "print(\"belajar Python menyenangkan\")\n",
        "print(\"halo dunia\")"
      ],
      "execution_count": 1,
      "outputs": [
        {
          "output_type": "stream",
          "name": "stdout",
          "text": [
            "belajar Python menyenangkan\n",
            "halo dunia\n"
          ]
        }
      ]
    },
    {
      "cell_type": "markdown",
      "metadata": {
        "id": "wyAL5uE5T7cc"
      },
      "source": [
        "2. Variables"
      ]
    },
    {
      "cell_type": "code",
      "metadata": {
        "id": "d3IaCgZvUABE"
      },
      "source": [
        "bilangan1 = 5\n",
        "bilangan2 = 10\n",
        "kalimat = \"Pejuang Data 3\""
      ],
      "execution_count": 2,
      "outputs": []
    },
    {
      "cell_type": "markdown",
      "metadata": {
        "id": "j8kZ0Z2jUZ1W"
      },
      "source": [
        "3. Literals : Simbol-simbol yang dapat kita gunakan untuk mengisi suatu variabel"
      ]
    },
    {
      "cell_type": "markdown",
      "metadata": {
        "id": "PW3zyIooUj3P"
      },
      "source": [
        "4. Operators : Simbol-simbol yang dapat digunakan untuk mengubah nilai dari satu variabel dengan melibatkan satu atau lebih variabel dan literal"
      ]
    },
    {
      "cell_type": "code",
      "metadata": {
        "colab": {
          "base_uri": "https://localhost:8080/"
        },
        "id": "fozg2x88U3vA",
        "outputId": "acb45baa-59a9-4b14-98eb-583cb8c536be"
      },
      "source": [
        "bilangan1 + bilangan2"
      ],
      "execution_count": 3,
      "outputs": [
        {
          "output_type": "execute_result",
          "data": {
            "text/plain": [
              "15"
            ]
          },
          "metadata": {},
          "execution_count": 3
        }
      ]
    },
    {
      "cell_type": "markdown",
      "metadata": {
        "id": "P_1ZlTnRVLK6"
      },
      "source": [
        "5. Reserved Words : Kumpulan kata-kata yang memiliki makna khusus dalam bahasa pemrograman Python. Kata False, return, dan for merupakan contoh dari reserved words"
      ]
    },
    {
      "cell_type": "markdown",
      "metadata": {
        "id": "Ox6_i39WVggX"
      },
      "source": [
        "6. Whitespace : Pada bahasa Python, spasi dan tab memiliki makna khusus untuk menandai serangkaian blok dalam kode Python"
      ]
    },
    {
      "cell_type": "markdown",
      "metadata": {
        "id": "E4B-RxSnV0aQ"
      },
      "source": [
        "7. Comments : Comments merupakan sekumpulan teks yang dituliskan didalam sebuah program yang tidak akan mempengaruhi hasil dari sebuah program.\n",
        "Terdapat 2 jenis comments di dalam Python, yaitu :\n"
      ]
    },
    {
      "cell_type": "markdown",
      "metadata": {
        "id": "oQG6l7TTWnJo"
      },
      "source": [
        "      a. single line comment (comments dalam satu baris) seperti pada contoh berikut:"
      ]
    },
    {
      "cell_type": "code",
      "metadata": {
        "colab": {
          "base_uri": "https://localhost:8080/"
        },
        "id": "owz9dTd5WUAo",
        "outputId": "b584e6ff-0a19-4278-8f56-a586feef5b1b"
      },
      "source": [
        "# Ini adalah Comment\n",
        "print(\"belajar Python\")"
      ],
      "execution_count": 4,
      "outputs": [
        {
          "output_type": "stream",
          "name": "stdout",
          "text": [
            "belajar Python\n"
          ]
        }
      ]
    },
    {
      "cell_type": "markdown",
      "metadata": {
        "id": "uM5pqt0SXNs5"
      },
      "source": [
        "      b. multi line comment (comments dalam beberapa baris) yang dapat dituliskan seperti pada contoh berikut :\n",
        "      "
      ]
    },
    {
      "cell_type": "code",
      "metadata": {
        "colab": {
          "base_uri": "https://localhost:8080/"
        },
        "id": "l-o0QHmRXiOa",
        "outputId": "7cacf1b0-c584-4be0-914c-5464cbf672a1"
      },
      "source": [
        "'''\n",
        "Ini adalah komentar panjang\n",
        "Bisa digunakan untuk memberikan penjelasan\n",
        "Panjang pada Sell kode Python,\n",
        "Misal dokumentasi program, spesifikasi\n",
        "input output atau lainnya\n",
        "'''\n",
        "\n",
        "print('Belajar Python menyenangkan')"
      ],
      "execution_count": 5,
      "outputs": [
        {
          "output_type": "stream",
          "name": "stdout",
          "text": [
            "Belajar Python menyenangkan\n"
          ]
        }
      ]
    }
  ]
}
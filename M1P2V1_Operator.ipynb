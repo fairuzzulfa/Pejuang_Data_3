{
  "nbformat": 4,
  "nbformat_minor": 0,
  "metadata": {
    "colab": {
      "name": "M1P2V1_Operator.ipynb",
      "provenance": []
    },
    "kernelspec": {
      "name": "python3",
      "display_name": "Python 3"
    },
    "language_info": {
      "name": "python"
    }
  },
  "cells": [
    {
      "cell_type": "markdown",
      "metadata": {
        "id": "Yz-69vq95DuW"
      },
      "source": [
        "**Operator**"
      ]
    },
    {
      "cell_type": "markdown",
      "metadata": {
        "id": "bHqIWb8T5Ph8"
      },
      "source": [
        "Operator = Simbol-simbol yang dapat digunakan untuk mengubah nilai dari satu variabel dengan melibatkan satu atau lebih variabel dan literal.\n",
        "Tipe-tipe operator :\n",
        "\n",
        "1.   Operator Aritmatika\n",
        "2.   Operator Assignment\n",
        "3.   Operator Pembanding\n",
        "4.   Operator Logika\n",
        "5.   Operator Membership\n",
        "\n"
      ]
    },
    {
      "cell_type": "markdown",
      "metadata": {
        "id": "YFcAXyDP6Ihz"
      },
      "source": [
        "**Operator Aritmatika**"
      ]
    },
    {
      "cell_type": "markdown",
      "metadata": {
        "id": "jXRcUaeoJAHt"
      },
      "source": [
        "Operator Aritmatika digunakan untuk melakukan operasi matematika yang umum."
      ]
    },
    {
      "cell_type": "code",
      "metadata": {
        "colab": {
          "base_uri": "https://localhost:8080/"
        },
        "id": "8EoUDTj66Sj0",
        "outputId": "a241ac20-de99-4ebd-d9da-69cb371eb7ed"
      },
      "source": [
        "#Contoh penggunaan operator aritmatika\n",
        "\n",
        "#penjumlahan\n",
        "print('Penjumlahan')\n",
        "print(2+2)\n",
        "#pengurangan\n",
        "print('Pengurangan')\n",
        "print(2-3)\n",
        "#Perkalian\n",
        "print('-'*20)\n",
        "print('Perkalian')\n",
        "print(2*3)\n",
        "#Pembagian\n",
        "print('-'*20)\n",
        "print('Pembagian')\n",
        "print(2/3)\n",
        "#Modulus\n",
        "print('-'*20)\n",
        "print('Modulus')\n",
        "print(2%3)\n",
        "#Perpangkatan \n",
        "print('-'*20)\n",
        "print('Perpangkatan')\n",
        "print(2**3)\n",
        "#Pembagian Pembulatan Floring\n",
        "print('-'*20)\n",
        "print('Pembagian Pembulatan Floring')\n",
        "print(3//2)"
      ],
      "execution_count": null,
      "outputs": [
        {
          "output_type": "stream",
          "name": "stdout",
          "text": [
            "Penjumlahan\n",
            "4\n",
            "Pengurangan\n",
            "-1\n",
            "--------------------\n",
            "Perkalian\n",
            "6\n",
            "--------------------\n",
            "Pembagian\n",
            "0.6666666666666666\n",
            "--------------------\n",
            "Modulus\n",
            "2\n",
            "--------------------\n",
            "Perpangkatan\n",
            "8\n",
            "--------------------\n",
            "Pembagian Pembulatan Floring\n",
            "1\n"
          ]
        }
      ]
    },
    {
      "cell_type": "markdown",
      "metadata": {
        "id": "BoO1vC9XBcQl"
      },
      "source": [
        "**Operator Assignment**"
      ]
    },
    {
      "cell_type": "markdown",
      "metadata": {
        "id": "kZWAGXq4JLQJ"
      },
      "source": [
        "Operator Assignment digunakan untuk menyimpan nilai menjadi suatu variabel."
      ]
    },
    {
      "cell_type": "code",
      "metadata": {
        "colab": {
          "base_uri": "https://localhost:8080/"
        },
        "id": "CU3qBqK2BhcM",
        "outputId": "00555e11-1226-48d2-97de-dd25b444b188"
      },
      "source": [
        "#Contoh penggunaan operator assignment\n",
        "\n",
        "#Penjumlahan \n",
        "print('Penjumlahan')\n",
        "x=5\n",
        "x=x+5\n",
        "print(x)\n",
        "x=5\n",
        "x+=3\n",
        "print(x)\n",
        "print('-'*20)\n",
        "\n",
        "#Pengurangan\n",
        "print('Pengurangan')\n",
        "x=5\n",
        "x=x-5\n",
        "print(x)\n",
        "x=5\n",
        "x-=3\n",
        "print(x)\n",
        "print('-'*20)\n",
        "\n",
        "#Perkalian\n",
        "print('Perkalian')\n",
        "x=5\n",
        "x=x*5\n",
        "print(x)\n",
        "x=5\n",
        "x*=3\n",
        "print(x)\n",
        "print('-'*20)\n",
        "\n",
        "#Pembagian\n",
        "print('Pembagian')\n",
        "x=5\n",
        "x=x/5\n",
        "print(x)\n",
        "x=5\n",
        "x/=3\n",
        "print(x)\n",
        "print('-'*20)\n",
        "\n",
        "#Modulus\n",
        "print('Modulus')\n",
        "x=5\n",
        "x=x%5\n",
        "print(x)\n",
        "x=5\n",
        "x%=3\n",
        "print(x)\n",
        "print('-'*20)\n",
        "\n",
        "#Pembagian Floring\n",
        "print('Pembagian Floring')\n",
        "x=5\n",
        "x=x//5\n",
        "print(x)\n",
        "x=5\n",
        "x//=3\n",
        "print('-'*20)\n",
        "\n",
        "#Perpangkatan\n",
        "print('Perpangkatan')\n",
        "x=5\n",
        "x=x**5\n",
        "print(x)\n",
        "x=5\n",
        "x**=3\n",
        "print(x)\n",
        "print('-'*20)"
      ],
      "execution_count": null,
      "outputs": [
        {
          "output_type": "stream",
          "name": "stdout",
          "text": [
            "Penjumlahan\n",
            "10\n",
            "8\n",
            "--------------------\n",
            "Pengurangan\n",
            "0\n",
            "2\n",
            "--------------------\n",
            "Perkalian\n",
            "25\n",
            "15\n",
            "--------------------\n",
            "Pembagian\n",
            "1.0\n",
            "1.6666666666666667\n",
            "--------------------\n",
            "Modulus\n",
            "0\n",
            "2\n",
            "--------------------\n",
            "Pembagian Floring\n",
            "1\n",
            "--------------------\n",
            "Perpangkatan\n",
            "3125\n",
            "125\n",
            "--------------------\n"
          ]
        }
      ]
    },
    {
      "cell_type": "markdown",
      "metadata": {
        "id": "jI45IFpAHZxF"
      },
      "source": [
        "**Operator Pembanding**"
      ]
    },
    {
      "cell_type": "markdown",
      "metadata": {
        "id": "Mh4JTUFzJW3u"
      },
      "source": [
        "Operator Pembanding digunakan untuk membandingkan 2 nilai atau variabel."
      ]
    },
    {
      "cell_type": "code",
      "metadata": {
        "colab": {
          "base_uri": "https://localhost:8080/"
        },
        "id": "ngLG4Yg8HnvU",
        "outputId": "5bf2f032-ff7d-437e-bf06-0b5fd364f393"
      },
      "source": [
        "#Contoh penggunaan operator pembanding\n",
        "\n",
        "print(2==2)\n",
        "print(2!=2)\n",
        "print(2>2)\n",
        "print(2<2)\n",
        "print(2>=2)\n",
        "print(2<=2)"
      ],
      "execution_count": null,
      "outputs": [
        {
          "output_type": "stream",
          "name": "stdout",
          "text": [
            "True\n",
            "False\n",
            "False\n",
            "False\n",
            "True\n",
            "True\n"
          ]
        }
      ]
    },
    {
      "cell_type": "markdown",
      "metadata": {
        "id": "_cm5v617IDyu"
      },
      "source": [
        "**Operator Logika**"
      ]
    },
    {
      "cell_type": "markdown",
      "metadata": {
        "id": "G7v5E2BkJje_"
      },
      "source": [
        "Operator Logika digunakan untuk mengkombinasikan statment-statment kondisional."
      ]
    },
    {
      "cell_type": "code",
      "metadata": {
        "colab": {
          "base_uri": "https://localhost:8080/"
        },
        "id": "7-ug-oh9IHvu",
        "outputId": "93d80a82-71c2-4e87-f36d-88707865213f"
      },
      "source": [
        "#Contoh penggunaan operator logika\n",
        "\n",
        "print(True and False)\n",
        "print(False or False)\n",
        "print(not False and True)"
      ],
      "execution_count": null,
      "outputs": [
        {
          "output_type": "stream",
          "name": "stdout",
          "text": [
            "False\n",
            "False\n",
            "True\n"
          ]
        }
      ]
    },
    {
      "cell_type": "markdown",
      "metadata": {
        "id": "Zn6jIkD4IZUu"
      },
      "source": [
        "**Operator Keanggotaan**"
      ]
    },
    {
      "cell_type": "markdown",
      "metadata": {
        "id": "7ER3fIlRJwEL"
      },
      "source": [
        "Operator Keanggotaan digunakan untuk menguji apakah urutan disajikan dalam suatu objek."
      ]
    },
    {
      "cell_type": "code",
      "metadata": {
        "colab": {
          "base_uri": "https://localhost:8080/"
        },
        "id": "vPRshhg7IowM",
        "outputId": "c06c47a1-0f36-40b8-f5aa-abf986aa077b"
      },
      "source": [
        "#Contoh penggunaan operator keanggotaan\n",
        "a=(1,2,3,4,5,6)\n",
        "b=2\n",
        "\n",
        "print(b in a)\n",
        "\n",
        "print('-'*20)\n",
        "a=(1,2,3,4,5,6)\n",
        "b=7\n",
        "print(b not in a)"
      ],
      "execution_count": null,
      "outputs": [
        {
          "output_type": "stream",
          "name": "stdout",
          "text": [
            "True\n",
            "--------------------\n",
            "True\n"
          ]
        }
      ]
    }
  ]
}
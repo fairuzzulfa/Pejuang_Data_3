{
  "nbformat": 4,
  "nbformat_minor": 0,
  "metadata": {
    "colab": {
      "name": "M1P2V2_Variabel_dan_Tipe_Data.ipynb",
      "provenance": [],
      "collapsed_sections": []
    },
    "kernelspec": {
      "name": "python3",
      "display_name": "Python 3"
    },
    "language_info": {
      "name": "python"
    }
  },
  "cells": [
    {
      "cell_type": "markdown",
      "metadata": {
        "id": "rspLuiTgoqhK"
      },
      "source": [
        "**Variabel dan Tipe Data**"
      ]
    },
    {
      "cell_type": "markdown",
      "metadata": {
        "id": "9DDVMiIXownB"
      },
      "source": [
        "**Variabel**"
      ]
    },
    {
      "cell_type": "markdown",
      "metadata": {
        "id": "9KDclGJrozwY"
      },
      "source": [
        "Variabel : Lokasi penyimpanan yang dapat digunakan untuk menampung sebuah data atau informasi."
      ]
    },
    {
      "cell_type": "code",
      "metadata": {
        "colab": {
          "base_uri": "https://localhost:8080/"
        },
        "id": "KP8AaF0conIF",
        "outputId": "93dd573f-f011-4409-9c36-e729008deae7"
      },
      "source": [
        "#membuat variabel\n",
        "kalimat = 'ini adalah variabel'\n",
        "bilangan1 = 4\n",
        "bilangan2 = 2.5\n",
        "bilangan3 = True\n",
        "bilangan4 = 1j + 4\n",
        "\n",
        "#menampilkan variabel\n",
        "print(kalimat)\n",
        "print(bilangan1)\n",
        "print(bilangan2)"
      ],
      "execution_count": null,
      "outputs": [
        {
          "output_type": "stream",
          "name": "stdout",
          "text": [
            "ini adalah variabel\n",
            "4\n",
            "2.5\n"
          ]
        }
      ]
    },
    {
      "cell_type": "markdown",
      "metadata": {
        "id": "CIHaDH_Pp8BJ"
      },
      "source": [
        "**Tipe Data**"
      ]
    },
    {
      "cell_type": "markdown",
      "metadata": {
        "id": "mqYhWJiOqY3t"
      },
      "source": [
        "5 tipe data, yaitu :\n",
        "\n",
        "1.   Integer atau bilangan bulat\n",
        "2.   Float atau bilangan desimal\n",
        "3.   String atau kalimat\n",
        "4.   Boolean yang terdiri dari True dan False\n",
        "5.   Complex yang merupakan bilangan kompleks\n",
        "\n"
      ]
    },
    {
      "cell_type": "code",
      "metadata": {
        "colab": {
          "base_uri": "https://localhost:8080/"
        },
        "id": "MX08QH3Zp-pM",
        "outputId": "3289c264-1121-425e-8966-2997efdadd99"
      },
      "source": [
        "#menampilkan tipe data\n",
        "print(type(kalimat))\n",
        "print(type(bilangan1))\n",
        "print(type(bilangan2))\n",
        "print(type(bilangan3))\n",
        "print(type(bilangan4))"
      ],
      "execution_count": null,
      "outputs": [
        {
          "output_type": "stream",
          "name": "stdout",
          "text": [
            "<class 'str'>\n",
            "<class 'int'>\n",
            "<class 'float'>\n",
            "<class 'bool'>\n",
            "<class 'complex'>\n"
          ]
        }
      ]
    },
    {
      "cell_type": "markdown",
      "metadata": {
        "id": "UV_eRx3oqxCC"
      },
      "source": [
        "**Konversi Tipe Data**"
      ]
    },
    {
      "cell_type": "markdown",
      "metadata": {
        "id": "iGMefy3hsOOt"
      },
      "source": [
        "Syntax konversi tipe data :\n",
        "\n",
        "1.   Integer = int()\n",
        "2.   Float = float()\n",
        "3.   String = str()\n",
        "4.   Bloolean = bool()\n",
        "5.   Complex = complex()\n",
        "\n"
      ]
    },
    {
      "cell_type": "code",
      "metadata": {
        "colab": {
          "base_uri": "https://localhost:8080/"
        },
        "id": "o6IOQeU-q1Yo",
        "outputId": "9cdc3e15-fdd3-4004-e4c6-51de96d6ef1f"
      },
      "source": [
        "#konversi tipe data integer\n",
        "print(int(bilangan2))\n",
        "print(int(bilangan3))"
      ],
      "execution_count": null,
      "outputs": [
        {
          "output_type": "stream",
          "name": "stdout",
          "text": [
            "2\n",
            "1\n"
          ]
        }
      ]
    },
    {
      "cell_type": "code",
      "metadata": {
        "colab": {
          "base_uri": "https://localhost:8080/"
        },
        "id": "tj8R5l1rrMvE",
        "outputId": "8402fe75-d55e-45d3-f08f-4ef1ceaad6cd"
      },
      "source": [
        "#konversi tipe data float\n",
        "print(float(bilangan1))\n",
        "print(float(bilangan3))"
      ],
      "execution_count": null,
      "outputs": [
        {
          "output_type": "stream",
          "name": "stdout",
          "text": [
            "4.0\n",
            "1.0\n"
          ]
        }
      ]
    },
    {
      "cell_type": "code",
      "metadata": {
        "colab": {
          "base_uri": "https://localhost:8080/"
        },
        "id": "lzu__TcoraYz",
        "outputId": "f696956d-e0e7-45b6-ae4e-c2ac836bc128"
      },
      "source": [
        "#konversi tipe data string\n",
        "print(str(bilangan1))\n",
        "print(str(bilangan2))\n",
        "print(str(bilangan3))"
      ],
      "execution_count": null,
      "outputs": [
        {
          "output_type": "stream",
          "name": "stdout",
          "text": [
            "4\n",
            "2.5\n",
            "True\n"
          ]
        }
      ]
    },
    {
      "cell_type": "code",
      "metadata": {
        "colab": {
          "base_uri": "https://localhost:8080/"
        },
        "id": "Hgg69q3cruZS",
        "outputId": "28819ac6-2a33-4954-ba85-0c188f54a0df"
      },
      "source": [
        "#konversi tipe data bool\n",
        "print(bool(bilangan1))\n",
        "print(bool(bilangan2))"
      ],
      "execution_count": null,
      "outputs": [
        {
          "output_type": "stream",
          "name": "stdout",
          "text": [
            "True\n",
            "True\n"
          ]
        }
      ]
    },
    {
      "cell_type": "code",
      "metadata": {
        "colab": {
          "base_uri": "https://localhost:8080/"
        },
        "id": "zoqz1NHlr7T6",
        "outputId": "8f40f85e-e0a6-4c7b-b2f5-2685f98d1fd3"
      },
      "source": [
        "#konversi tipe data complex\n",
        "print(complex(bilangan1))\n",
        "print(complex(bilangan2))\n",
        "print(complex(bilangan3))"
      ],
      "execution_count": null,
      "outputs": [
        {
          "output_type": "stream",
          "name": "stdout",
          "text": [
            "(4+0j)\n",
            "(2.5+0j)\n",
            "(1+0j)\n"
          ]
        }
      ]
    }
  ]
}
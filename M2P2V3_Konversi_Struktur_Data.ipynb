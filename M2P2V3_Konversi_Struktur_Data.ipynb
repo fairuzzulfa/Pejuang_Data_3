{
  "nbformat": 4,
  "nbformat_minor": 0,
  "metadata": {
    "colab": {
      "name": "M2P2V3_Konversi_Struktur_Data.ipynb",
      "provenance": [],
      "collapsed_sections": []
    },
    "kernelspec": {
      "name": "python3",
      "display_name": "Python 3"
    },
    "language_info": {
      "name": "python"
    }
  },
  "cells": [
    {
      "cell_type": "markdown",
      "metadata": {
        "id": "M-QqD4zvQ1Ks"
      },
      "source": [
        "**Konversi  Struktur Data**"
      ]
    },
    {
      "cell_type": "markdown",
      "metadata": {
        "id": "v7XeiZBgQ5u_"
      },
      "source": [
        "Fungsi untuk mengubah / konversi strktur data :\n",
        "\n",
        "\n",
        "1.   list() : untuk mengubah menjadi list\n",
        "2.   tuple() : untuk mengubah menjadi tuple\n",
        "3.   set() : untuk mengubah menjadi set\n",
        "4.   dict() : untuk mengubah menjadi dictionary\n",
        "\n"
      ]
    },
    {
      "cell_type": "markdown",
      "metadata": {
        "id": "OFfkCP6zRgp8"
      },
      "source": [
        "**Mengkonversi tipe data list :**"
      ]
    },
    {
      "cell_type": "code",
      "metadata": {
        "id": "qQoTgNQZOGLb"
      },
      "source": [
        "#Membuat 2 list \n",
        "L1 = [1, 2, 3, 4]\n",
        "L2 = [5, 6, 7, 8]\n"
      ],
      "execution_count": null,
      "outputs": []
    },
    {
      "cell_type": "code",
      "metadata": {
        "colab": {
          "base_uri": "https://localhost:8080/"
        },
        "id": "LjTrercJR2TI",
        "outputId": "43cc9eb1-6a4f-474e-c438-6c9c6aa6de15"
      },
      "source": [
        "#Mengkonversi struktur data list\n",
        "k_tuple = tuple(L1)\n",
        "k_set = set(L2)\n",
        "k_dict = dict(zip(L1, L2))\n",
        "#Melihat data yang telah dikonversi\n",
        "print(k_tuple)\n",
        "print(k_set)\n",
        "print(k_dict)"
      ],
      "execution_count": null,
      "outputs": [
        {
          "output_type": "stream",
          "name": "stdout",
          "text": [
            "(1, 2, 3, 4)\n",
            "{8, 5, 6, 7}\n",
            "{1: 5, 2: 6, 3: 7, 4: 8}\n"
          ]
        }
      ]
    },
    {
      "cell_type": "markdown",
      "metadata": {
        "id": "_m6_eYr-dihF"
      },
      "source": [
        "**Mengkonversi tipe data tuple :**"
      ]
    },
    {
      "cell_type": "code",
      "metadata": {
        "id": "XBSLSnYFdsPi"
      },
      "source": [
        "#Membuat dua tuple\n",
        "T1 = (1, 2, 3, 4)\n",
        "T2 = (5, 6, 7, 8)"
      ],
      "execution_count": null,
      "outputs": []
    },
    {
      "cell_type": "code",
      "metadata": {
        "colab": {
          "base_uri": "https://localhost:8080/"
        },
        "id": "sZ3pAlhweoaY",
        "outputId": "30035b4b-cba8-457e-cf7f-9362e458d9ff"
      },
      "source": [
        "#Mengkonversi struktur data tuple\n",
        "k_list = list(T1)\n",
        "k_set = set(T2)\n",
        "k_dict = dict(zip(T1, T2))\n",
        "#Melihat data yang telah dikonversi\n",
        "print(k_list)\n",
        "print(k_set)\n",
        "print(k_dict)"
      ],
      "execution_count": null,
      "outputs": [
        {
          "output_type": "stream",
          "name": "stdout",
          "text": [
            "[1, 2, 3, 4]\n",
            "{8, 5, 6, 7}\n",
            "{1: 5, 2: 6, 3: 7, 4: 8}\n"
          ]
        }
      ]
    },
    {
      "cell_type": "markdown",
      "metadata": {
        "id": "im77MaxJfffP"
      },
      "source": [
        "**Mengkonversi tipe data set :**"
      ]
    },
    {
      "cell_type": "code",
      "metadata": {
        "id": "EZZVRwQBfeZ4"
      },
      "source": [
        "#Membuat dua set\n",
        "S1 = {1, 2, 3, 4}\n",
        "S2 = {5, 6, 7, 8}"
      ],
      "execution_count": null,
      "outputs": []
    },
    {
      "cell_type": "code",
      "metadata": {
        "colab": {
          "base_uri": "https://localhost:8080/"
        },
        "id": "-OwVvYrWfu_I",
        "outputId": "48fcd713-598a-443d-935b-110fcc27a63c"
      },
      "source": [
        "#Mengkonversi struktur data set\n",
        "k_list = list(S1)\n",
        "k_tuple = tuple(S2)\n",
        "k_dict = dict(zip(S1, S2))\n",
        "#Melihat data yang telah dikonversi\n",
        "print(k_list)\n",
        "print(k_tuple)\n",
        "print(k_dict)"
      ],
      "execution_count": null,
      "outputs": [
        {
          "output_type": "stream",
          "name": "stdout",
          "text": [
            "[1, 2, 3, 4]\n",
            "(8, 5, 6, 7)\n",
            "{1: 8, 2: 5, 3: 6, 4: 7}\n"
          ]
        }
      ]
    },
    {
      "cell_type": "markdown",
      "metadata": {
        "id": "KVX5MbNOgRPP"
      },
      "source": [
        "**Mengkonversi tipe data dictionary :**"
      ]
    },
    {
      "cell_type": "code",
      "metadata": {
        "id": "72IGohNAgXZe"
      },
      "source": [
        "#Membuat dictionary\n",
        "D = {\n",
        "    \"nama\" : \"Andi\",\n",
        "    \"alamat\" : \"Yogyakarta\",\n",
        "     \"umur\" : 20\n",
        "}"
      ],
      "execution_count": null,
      "outputs": []
    },
    {
      "cell_type": "code",
      "metadata": {
        "colab": {
          "base_uri": "https://localhost:8080/"
        },
        "id": "Oj12F8xogoEX",
        "outputId": "d5006e1d-b899-470b-8cb3-799d2939c1bc"
      },
      "source": [
        "#Mengkoversi struktur data dictionary dari key dan value-nya\n",
        "k_list = list(D.keys())\n",
        "k_tuple = tuple(D.values())\n",
        "k_set = set(D.keys())\n",
        "#Melihat data yang telah dikonversi \n",
        "print(k_list)\n",
        "print(k_tuple)\n",
        "print(k_set)"
      ],
      "execution_count": null,
      "outputs": [
        {
          "output_type": "stream",
          "name": "stdout",
          "text": [
            "['nama', 'alamat', 'umur']\n",
            "('Andi', 'Yogyakarta', 20)\n",
            "{'umur', 'nama', 'alamat'}\n"
          ]
        }
      ]
    }
  ]
}
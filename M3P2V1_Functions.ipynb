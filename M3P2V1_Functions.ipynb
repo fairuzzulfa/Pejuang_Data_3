{
  "nbformat": 4,
  "nbformat_minor": 0,
  "metadata": {
    "colab": {
      "name": "M3P2V1_Functions.ipynb",
      "provenance": [],
      "collapsed_sections": []
    },
    "kernelspec": {
      "name": "python3",
      "display_name": "Python 3"
    },
    "language_info": {
      "name": "python"
    }
  },
  "cells": [
    {
      "cell_type": "markdown",
      "metadata": {
        "id": "QbCpsWQmcWnx"
      },
      "source": [
        "# **Function**"
      ]
    },
    {
      "cell_type": "markdown",
      "metadata": {
        "id": "e7wROf7Zcaht"
      },
      "source": [
        "Function (Fungsi) adalah sebuah blok statemen yang hanya akan dijalankan saat ia dipanggil."
      ]
    },
    {
      "cell_type": "markdown",
      "metadata": {
        "id": "D4QjYnK3clZv"
      },
      "source": [
        "Fungsi len() untuk mengukur jumlah elemen dalam sebuah list dan fungsi print() untuk menampilkan pesan pada layar konsol merupakan contoh dari bentuk fungsi yang telah disediakan oleh bahasa pemrograman Python atau dengan kata lain built-in functions. "
      ]
    },
    {
      "cell_type": "markdown",
      "metadata": {
        "id": "HHAaQoiYdFbs"
      },
      "source": [
        "Selain fungsi yang telah disediakan oleh Python, Python mengizinkan untuk mendeklarasikan fungsi dalam kode yang dituliskan yang dikenal dengan user defined function"
      ]
    },
    {
      "cell_type": "markdown",
      "metadata": {
        "id": "gXCnykTkdey0"
      },
      "source": [
        "\n",
        "\n",
        "```\n",
        "def nama_fungsi(argument):\n",
        "    statment_1\n",
        "    ...\n",
        "    statement_n\n",
        "    return returned_value\n",
        "```\n",
        "\n"
      ]
    },
    {
      "cell_type": "markdown",
      "metadata": {
        "id": "xf1iHaTMdzcF"
      },
      "source": [
        "\n",
        "\n",
        "*   **nama_fungsi** adalah nama untuk fungsi yang Anda definisikan, memiliki aturan seperti penamaan variabel\n",
        "*   **argument** adalah variabel masukan ke fungsi, bisa tanpa variabel, satu variabel atau lebih\n",
        "*   **statment_1 ... statemen_n** adalah algoritma yang telah Anda transfer dalam bahasa Python yang merupakan inti dari fungsi yang Anda definisikan. Seluruh statement adalah menjorok (indent) kedalam seperti yang pernah Anda pelajari pada conditioning dan looping.\n",
        "*   **return_value** adalah variabel output dari fungsi Anda, bisa tanpa variabel, satu variabel atau lebih.\n",
        "\n",
        "\n",
        "\n"
      ]
    },
    {
      "cell_type": "markdown",
      "metadata": {
        "id": "wGrEMCkMfNXb"
      },
      "source": [
        "# Argumen dan Parameter"
      ]
    },
    {
      "cell_type": "markdown",
      "metadata": {
        "id": "gEYArSlIfTOi"
      },
      "source": [
        "\n",
        "\n",
        "*   **Parameter** adalah variabel yang digunakan dalam deklarasi fungsi.\n",
        "*   **Argumen** adalah nilai yang diberikan saat pemanggilan fungsi\n",
        "\n"
      ]
    },
    {
      "cell_type": "code",
      "metadata": {
        "colab": {
          "base_uri": "https://localhost:8080/"
        },
        "id": "wB1JfhfLcUSt",
        "outputId": "da856525-3f4b-4b43-b5a9-b75b5907fad3"
      },
      "source": [
        "def print_nama(nama): #'nama' adalah parameter\n",
        "    print(nama)\n",
        "\n",
        "print_nama('Budi') #'Budi' adalah argumen"
      ],
      "execution_count": null,
      "outputs": [
        {
          "output_type": "stream",
          "name": "stdout",
          "text": [
            "Budi\n"
          ]
        }
      ]
    },
    {
      "cell_type": "markdown",
      "metadata": {
        "id": "i2n88MrTgJKj"
      },
      "source": [
        "# Argumen posisi dan kata kunci"
      ]
    },
    {
      "cell_type": "markdown",
      "metadata": {
        "id": "ZvD-ENQGgOyr"
      },
      "source": [
        "Kita bisa menyatakan argumen sebagai argumen posisi atau kata kunci. Beberapa manfaat argumen kata kunci dapat berupa:\n",
        "\n",
        "\n",
        "*   Kita dapat menyebut argumen dengan nama mereka untuk mempperjelas apa yang mereka wakili\n",
        "*   Kita dapat mengatur ulang argumen dengan cara yang membuatnya paling mudah dibaca\n",
        "\n"
      ]
    },
    {
      "cell_type": "code",
      "metadata": {
        "colab": {
          "base_uri": "https://localhost:8080/"
        },
        "id": "BfaAbhVdg0Cz",
        "outputId": "fb538dd1-2975-4b9d-860a-382f4beeeca6"
      },
      "source": [
        "def angka(a, b, c):\n",
        "    print(a, b, c)\n",
        "\n",
        "#argumen posisi\n",
        "#argumen berdasarkan posisinnya\n",
        "angka(1, 2, 3)\n",
        "\n",
        "#argumen berdasarkan kata kuncinya\n",
        "angka(a=1, b=2, c=3)\n",
        "angka(c=3, b=2, a=1)\n",
        "#catatan : jika sudah diberi kata kunci maka urutan tidak menjadi penting\n",
        "\n",
        "#campuran antara argumen posisi dan argumen kata kunci \n",
        "angka(1, b=2, c=3)\n",
        "\n",
        "#ini tidak diijinkan :\n",
        "#foo(1, b=2, 3) #argumen posisional setelah argumen kunci\n",
        "#foo(1, b=2, a=3) #terdapat dua nilai untuk argumen kunci 'a'"
      ],
      "execution_count": null,
      "outputs": [
        {
          "output_type": "stream",
          "name": "stdout",
          "text": [
            "1 2 3\n",
            "1 2 3\n",
            "1 2 3\n",
            "1 2 3\n"
          ]
        }
      ]
    },
    {
      "cell_type": "markdown",
      "metadata": {
        "id": "QgCgH6Q2h7E8"
      },
      "source": [
        "# Argumen Default"
      ]
    },
    {
      "cell_type": "markdown",
      "metadata": {
        "id": "la9e1h9ziBwX"
      },
      "source": [
        "Fungsi dapat memiliki argumen default dengan nilai yang telah ditentukan sebelumnya. Argumen ini dapat ditinggalkan dan nilai default kemudian diteruskan ke fungsi, atau argumen dapat dirubah dengan nilai yang berbeda. Perhatikan bahwa argumen default harus ditentukan sebagai **parameter terakhir** dalam suatu fungsi."
      ]
    },
    {
      "cell_type": "code",
      "metadata": {
        "colab": {
          "base_uri": "https://localhost:8080/"
        },
        "id": "QHrFN0CajpWJ",
        "outputId": "240adb4d-e0e2-4077-be5a-40ecff9e3697"
      },
      "source": [
        "#argumen default\n",
        "def angka2(a, b, c, d=4):\n",
        "    print(a, b, c, d)\n",
        "\n",
        "angka2(1, 2, 3, 4)\n",
        "angka2(1, b=2, c=3, d=100)\n",
        "\n",
        "#argumen default harus diletakkan terakhir"
      ],
      "execution_count": null,
      "outputs": [
        {
          "output_type": "stream",
          "name": "stdout",
          "text": [
            "1 2 3 4\n",
            "1 2 3 100\n"
          ]
        }
      ]
    },
    {
      "cell_type": "markdown",
      "metadata": {
        "id": "4o7p1IjDkiZI"
      },
      "source": [
        "Praktik Membuat Fungsi"
      ]
    },
    {
      "cell_type": "code",
      "metadata": {
        "colab": {
          "base_uri": "https://localhost:8080/"
        },
        "id": "06RIkQAokm9V",
        "outputId": "5182e814-84d4-4f53-b222-871ae85f648d"
      },
      "source": [
        "x = 1\n",
        "y = 2\n",
        "x*y"
      ],
      "execution_count": null,
      "outputs": [
        {
          "output_type": "execute_result",
          "data": {
            "text/plain": [
              "2"
            ]
          },
          "metadata": {},
          "execution_count": 5
        }
      ]
    },
    {
      "cell_type": "code",
      "metadata": {
        "colab": {
          "base_uri": "https://localhost:8080/"
        },
        "id": "Z-sAxopdkr85",
        "outputId": "1383c489-d0a7-4f72-d4a3-60bd0f57d09a"
      },
      "source": [
        "def penjumlahan(x, y): #input\n",
        "  a=x+y                #proses\n",
        "  return a           #output\n",
        "\n",
        "penjumlahan(1, 2)      #menggunakan fungsi"
      ],
      "execution_count": null,
      "outputs": [
        {
          "output_type": "execute_result",
          "data": {
            "text/plain": [
              "3"
            ]
          },
          "metadata": {},
          "execution_count": 8
        }
      ]
    },
    {
      "cell_type": "markdown",
      "metadata": {
        "id": "Ci5WmTr6lQnY"
      },
      "source": [
        "penjumlahan yang memungkinkan untuk tiga bilangan"
      ]
    },
    {
      "cell_type": "code",
      "metadata": {
        "colab": {
          "base_uri": "https://localhost:8080/"
        },
        "id": "iQkbN_NPlXpT",
        "outputId": "763c30a9-6600-4d47-a7db-89de28e4e0a4"
      },
      "source": [
        "def penjumlahan(x,y,z=None):\n",
        "    if (z==None):\n",
        "      return x+y\n",
        "    else:\n",
        "      return x+y+z\n",
        "\n",
        "print(penjumlahan(1, 2))\n",
        "print(penjumlahan(1, 2, 3))"
      ],
      "execution_count": null,
      "outputs": [
        {
          "output_type": "stream",
          "name": "stdout",
          "text": [
            "3\n",
            "6\n"
          ]
        }
      ]
    },
    {
      "cell_type": "markdown",
      "metadata": {
        "id": "VRIIetLglzj6"
      },
      "source": [
        "menyimpan hasil fungsi dalam variabel"
      ]
    },
    {
      "cell_type": "code",
      "metadata": {
        "colab": {
          "base_uri": "https://localhost:8080/"
        },
        "id": "ExJzhiA2l3ww",
        "outputId": "7fef4ad0-b40a-4b0f-a6cd-0a0b04d932c4"
      },
      "source": [
        "def penjumlahan(x,y):\n",
        "    return x+y\n",
        "\n",
        "a = penjumlahan\n",
        "a(1,2)"
      ],
      "execution_count": null,
      "outputs": [
        {
          "output_type": "execute_result",
          "data": {
            "text/plain": [
              "3"
            ]
          },
          "metadata": {},
          "execution_count": 11
        }
      ]
    },
    {
      "cell_type": "markdown",
      "metadata": {
        "id": "peNdckjjdJx5"
      },
      "source": [
        "**Latihan 1**"
      ]
    },
    {
      "cell_type": "markdown",
      "metadata": {
        "id": "aCVcBWRW9XYI"
      },
      "source": [
        "Buatlah function pythagoras dengan input argumennya panjang tinggi dan alas segitiga untuk menghasilkan output nilai panjang sisi."
      ]
    },
    {
      "cell_type": "code",
      "metadata": {
        "colab": {
          "base_uri": "https://localhost:8080/"
        },
        "id": "zpdPNlMe9s6G",
        "outputId": "cbb4e8a8-1a04-4081-cbf0-b8b07d4004e3"
      },
      "source": [
        "def pythagoras():\n",
        "  import math\n",
        "\n",
        "  a = int(input('Masukkan tinggi segitiga:'))\n",
        "  b = int(input('Masukkan alas segitiga:'))\n",
        "  c = a**2 + b**2\n",
        "  sisi_miring = math.sqrt(c)\n",
        "  print('Sisi miring segitiga = ', sisi_miring)\n",
        "\n",
        "pythagoras()"
      ],
      "execution_count": 2,
      "outputs": [
        {
          "output_type": "stream",
          "name": "stdout",
          "text": [
            "Masukkan tinggi segitiga:15\n",
            "Masukkan alas segitiga:8\n",
            "Sisi miring segitiga =  17.0\n"
          ]
        }
      ]
    },
    {
      "cell_type": "markdown",
      "metadata": {
        "id": "obfEuOBz-5GJ"
      },
      "source": [
        "**Latihan 2**"
      ]
    },
    {
      "cell_type": "markdown",
      "metadata": {
        "id": "YJO75R21-9Zf"
      },
      "source": [
        "Buatlah function luas permukaan balok dengan input argumen panjang, lebar, dan tinggi dari balok untuk menghasilkan nilai luas permukaan balok tersebut."
      ]
    },
    {
      "cell_type": "code",
      "metadata": {
        "colab": {
          "base_uri": "https://localhost:8080/"
        },
        "id": "-9KKR8d__TBI",
        "outputId": "6bf424da-718f-49d7-951f-82f20c029c49"
      },
      "source": [
        "def balok():\n",
        "\n",
        "  x = int(input('Masukkan panjang balok:'))\n",
        "  y = int(input('Masukkan lebar balok:'))\n",
        "  z = int(input('Masukkan tinggi balok:'))\n",
        "  luas_permukaan = 2*((x*y)+(x*z)+(y*z))\n",
        "  print('Luas permukaan balok = ', luas_permukaan)\n",
        "\n",
        "balok()"
      ],
      "execution_count": 3,
      "outputs": [
        {
          "output_type": "stream",
          "name": "stdout",
          "text": [
            "Masukkan panjang balok:10\n",
            "Masukkan lebar balok:6\n",
            "Masukkan tinggi balok:8\n",
            "Luas permukaan balok =  376\n"
          ]
        }
      ]
    }
  ]
}